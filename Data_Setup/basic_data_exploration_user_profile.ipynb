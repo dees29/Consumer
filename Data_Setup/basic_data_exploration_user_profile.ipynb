{
 "cells": [
  {
   "cell_type": "code",
   "execution_count": 1,
   "metadata": {},
   "outputs": [],
   "source": [
    "import findspark\n",
    "findspark.init()"
   ]
  },
  {
   "cell_type": "code",
   "execution_count": 7,
   "metadata": {},
   "outputs": [],
   "source": [
    "import numpy as np\n",
    "import pandas as pd"
   ]
  },
  {
   "cell_type": "code",
   "execution_count": 11,
   "metadata": {},
   "outputs": [],
   "source": [
    "user_profile = pd.read_csv('C:/Users/Admin/Downloads/Music-Recommender-last.fm-master/Music-Recommender-last.fm-master/lastfm-dataset-360k-small/merged-subset.csv', encoding = \"ISO-8859-1\")"
   ]
  },
  {
   "cell_type": "code",
   "execution_count": 12,
   "metadata": {},
   "outputs": [
    {
     "data": {
      "text/html": [
       "<div>\n",
       "<style scoped>\n",
       "    .dataframe tbody tr th:only-of-type {\n",
       "        vertical-align: middle;\n",
       "    }\n",
       "\n",
       "    .dataframe tbody tr th {\n",
       "        vertical-align: top;\n",
       "    }\n",
       "\n",
       "    .dataframe thead th {\n",
       "        text-align: right;\n",
       "    }\n",
       "</style>\n",
       "<table border=\"1\" class=\"dataframe\">\n",
       "  <thead>\n",
       "    <tr style=\"text-align: right;\">\n",
       "      <th></th>\n",
       "      <th>Unnamed: 0</th>\n",
       "      <th>userId</th>\n",
       "      <th>artistId</th>\n",
       "      <th>artist</th>\n",
       "      <th>plays</th>\n",
       "      <th>gender</th>\n",
       "      <th>age</th>\n",
       "      <th>country</th>\n",
       "      <th>signupDate</th>\n",
       "    </tr>\n",
       "  </thead>\n",
       "  <tbody>\n",
       "    <tr>\n",
       "      <td>0</td>\n",
       "      <td>249130</td>\n",
       "      <td>03b9c645bc4f578ea1dcb6a975e7ea71fab79da2</td>\n",
       "      <td>a16371b9-7d36-497a-a9d4-42b0a0440c5e</td>\n",
       "      <td>slowdive</td>\n",
       "      <td>108</td>\n",
       "      <td>m</td>\n",
       "      <td>28.0</td>\n",
       "      <td>Germany</td>\n",
       "      <td>Sep 16, 2006</td>\n",
       "    </tr>\n",
       "    <tr>\n",
       "      <td>1</td>\n",
       "      <td>16103327</td>\n",
       "      <td>ee48ac7de691d31176a2843d0f2f8f49cab78e6d</td>\n",
       "      <td>5a24bc1a-c093-4a82-84ed-8d7f2da0570d</td>\n",
       "      <td>skinny puppy</td>\n",
       "      <td>407</td>\n",
       "      <td>m</td>\n",
       "      <td>NaN</td>\n",
       "      <td>Canada</td>\n",
       "      <td>Dec 14, 2006</td>\n",
       "    </tr>\n",
       "    <tr>\n",
       "      <td>2</td>\n",
       "      <td>12079167</td>\n",
       "      <td>b2e3d27a00fc3035edb439b14e6d30bcb6dddf69</td>\n",
       "      <td>68f1175b-592b-4f28-ab1c-85c7a438c636</td>\n",
       "      <td>turbonegro</td>\n",
       "      <td>91</td>\n",
       "      <td>m</td>\n",
       "      <td>29.0</td>\n",
       "      <td>United Kingdom</td>\n",
       "      <td>Sep 23, 2005</td>\n",
       "    </tr>\n",
       "    <tr>\n",
       "      <td>3</td>\n",
       "      <td>12210583</td>\n",
       "      <td>b4d4909255dc5bb404ff64866cac60164b465e9a</td>\n",
       "      <td>cfd3727e-7162-4e6a-a3f7-a59343ee6b8d</td>\n",
       "      <td>honey is cool</td>\n",
       "      <td>50</td>\n",
       "      <td>NaN</td>\n",
       "      <td>NaN</td>\n",
       "      <td>Denmark</td>\n",
       "      <td>Dec 22, 2008</td>\n",
       "    </tr>\n",
       "    <tr>\n",
       "      <td>4</td>\n",
       "      <td>7937614</td>\n",
       "      <td>758de8850b5a07875da1e23296e4021574be8596</td>\n",
       "      <td>3bb24e11-821a-4e4e-bd89-e0a2452474cf</td>\n",
       "      <td>useless id</td>\n",
       "      <td>108</td>\n",
       "      <td>m</td>\n",
       "      <td>25.0</td>\n",
       "      <td>Serbia</td>\n",
       "      <td>Mar 15, 2009</td>\n",
       "    </tr>\n",
       "  </tbody>\n",
       "</table>\n",
       "</div>"
      ],
      "text/plain": [
       "   Unnamed: 0                                    userId  \\\n",
       "0      249130  03b9c645bc4f578ea1dcb6a975e7ea71fab79da2   \n",
       "1    16103327  ee48ac7de691d31176a2843d0f2f8f49cab78e6d   \n",
       "2    12079167  b2e3d27a00fc3035edb439b14e6d30bcb6dddf69   \n",
       "3    12210583  b4d4909255dc5bb404ff64866cac60164b465e9a   \n",
       "4     7937614  758de8850b5a07875da1e23296e4021574be8596   \n",
       "\n",
       "                               artistId         artist  plays gender   age  \\\n",
       "0  a16371b9-7d36-497a-a9d4-42b0a0440c5e       slowdive    108      m  28.0   \n",
       "1  5a24bc1a-c093-4a82-84ed-8d7f2da0570d   skinny puppy    407      m   NaN   \n",
       "2  68f1175b-592b-4f28-ab1c-85c7a438c636     turbonegro     91      m  29.0   \n",
       "3  cfd3727e-7162-4e6a-a3f7-a59343ee6b8d  honey is cool     50    NaN   NaN   \n",
       "4  3bb24e11-821a-4e4e-bd89-e0a2452474cf     useless id    108      m  25.0   \n",
       "\n",
       "          country    signupDate  \n",
       "0         Germany  Sep 16, 2006  \n",
       "1          Canada  Dec 14, 2006  \n",
       "2  United Kingdom  Sep 23, 2005  \n",
       "3         Denmark  Dec 22, 2008  \n",
       "4          Serbia  Mar 15, 2009  "
      ]
     },
     "execution_count": 12,
     "metadata": {},
     "output_type": "execute_result"
    }
   ],
   "source": [
    "user_profile.head()"
   ]
  },
  {
   "cell_type": "code",
   "execution_count": 13,
   "metadata": {},
   "outputs": [
    {
     "data": {
      "text/plain": [
       "Index(['Unnamed: 0', 'userId', 'artistId', 'artist', 'plays', 'gender', 'age',\n",
       "       'country', 'signupDate'],\n",
       "      dtype='object')"
      ]
     },
     "execution_count": 13,
     "metadata": {},
     "output_type": "execute_result"
    }
   ],
   "source": [
    "user_profile.columns"
   ]
  },
  {
   "cell_type": "code",
   "execution_count": 14,
   "metadata": {},
   "outputs": [
    {
     "data": {
      "text/plain": [
       "121.0"
      ]
     },
     "execution_count": 14,
     "metadata": {},
     "output_type": "execute_result"
    }
   ],
   "source": [
    "user_profile['age'].max()"
   ]
  },
  {
   "cell_type": "code",
   "execution_count": 15,
   "metadata": {},
   "outputs": [
    {
     "data": {
      "text/html": [
       "<div>\n",
       "<style scoped>\n",
       "    .dataframe tbody tr th:only-of-type {\n",
       "        vertical-align: middle;\n",
       "    }\n",
       "\n",
       "    .dataframe tbody tr th {\n",
       "        vertical-align: top;\n",
       "    }\n",
       "\n",
       "    .dataframe thead th {\n",
       "        text-align: right;\n",
       "    }\n",
       "</style>\n",
       "<table border=\"1\" class=\"dataframe\">\n",
       "  <thead>\n",
       "    <tr style=\"text-align: right;\">\n",
       "      <th></th>\n",
       "      <th>Unnamed: 0</th>\n",
       "      <th>plays</th>\n",
       "      <th>age</th>\n",
       "    </tr>\n",
       "  </thead>\n",
       "  <tbody>\n",
       "    <tr>\n",
       "      <td>count</td>\n",
       "      <td>1.000000e+04</td>\n",
       "      <td>10000.00000</td>\n",
       "      <td>7960.000000</td>\n",
       "    </tr>\n",
       "    <tr>\n",
       "      <td>mean</td>\n",
       "      <td>8.648991e+06</td>\n",
       "      <td>220.75430</td>\n",
       "      <td>25.374497</td>\n",
       "    </tr>\n",
       "    <tr>\n",
       "      <td>std</td>\n",
       "      <td>4.974252e+06</td>\n",
       "      <td>472.69102</td>\n",
       "      <td>9.683979</td>\n",
       "    </tr>\n",
       "    <tr>\n",
       "      <td>min</td>\n",
       "      <td>7.692000e+03</td>\n",
       "      <td>1.00000</td>\n",
       "      <td>1.000000</td>\n",
       "    </tr>\n",
       "    <tr>\n",
       "      <td>25%</td>\n",
       "      <td>4.350924e+06</td>\n",
       "      <td>35.00000</td>\n",
       "      <td>20.000000</td>\n",
       "    </tr>\n",
       "    <tr>\n",
       "      <td>50%</td>\n",
       "      <td>8.618822e+06</td>\n",
       "      <td>95.00000</td>\n",
       "      <td>23.000000</td>\n",
       "    </tr>\n",
       "    <tr>\n",
       "      <td>75%</td>\n",
       "      <td>1.291075e+07</td>\n",
       "      <td>227.00000</td>\n",
       "      <td>28.000000</td>\n",
       "    </tr>\n",
       "    <tr>\n",
       "      <td>max</td>\n",
       "      <td>1.730761e+07</td>\n",
       "      <td>12558.00000</td>\n",
       "      <td>121.000000</td>\n",
       "    </tr>\n",
       "  </tbody>\n",
       "</table>\n",
       "</div>"
      ],
      "text/plain": [
       "         Unnamed: 0        plays          age\n",
       "count  1.000000e+04  10000.00000  7960.000000\n",
       "mean   8.648991e+06    220.75430    25.374497\n",
       "std    4.974252e+06    472.69102     9.683979\n",
       "min    7.692000e+03      1.00000     1.000000\n",
       "25%    4.350924e+06     35.00000    20.000000\n",
       "50%    8.618822e+06     95.00000    23.000000\n",
       "75%    1.291075e+07    227.00000    28.000000\n",
       "max    1.730761e+07  12558.00000   121.000000"
      ]
     },
     "execution_count": 15,
     "metadata": {},
     "output_type": "execute_result"
    }
   ],
   "source": [
    "user_profile.describe()"
   ]
  },
  {
   "cell_type": "code",
   "execution_count": 16,
   "metadata": {},
   "outputs": [
    {
     "name": "stdout",
     "output_type": "stream",
     "text": [
      "<class 'pandas.core.frame.DataFrame'>\n",
      "RangeIndex: 10000 entries, 0 to 9999\n",
      "Data columns (total 9 columns):\n",
      "Unnamed: 0    10000 non-null int64\n",
      "userId        10000 non-null object\n",
      "artistId      10000 non-null object\n",
      "artist        10000 non-null object\n",
      "plays         10000 non-null int64\n",
      "gender        9092 non-null object\n",
      "age           7960 non-null float64\n",
      "country       10000 non-null object\n",
      "signupDate    10000 non-null object\n",
      "dtypes: float64(1), int64(2), object(6)\n",
      "memory usage: 703.2+ KB\n"
     ]
    }
   ],
   "source": [
    "user_profile.info()"
   ]
  },
  {
   "cell_type": "code",
   "execution_count": 17,
   "metadata": {},
   "outputs": [
    {
     "data": {
      "text/plain": [
       "m    6756\n",
       "f    2336\n",
       "Name: gender, dtype: int64"
      ]
     },
     "execution_count": 17,
     "metadata": {},
     "output_type": "execute_result"
    }
   ],
   "source": [
    "user_profile['gender'].value_counts()"
   ]
  },
  {
   "cell_type": "code",
   "execution_count": 18,
   "metadata": {},
   "outputs": [
    {
     "data": {
      "text/plain": [
       "United States            1863\n",
       "Germany                   847\n",
       "United Kingdom            829\n",
       "Poland                    546\n",
       "Russian Federation        528\n",
       "                         ... \n",
       "Kiribati                    1\n",
       "Mongolia                    1\n",
       "Sao Tome and Principe       1\n",
       "Wallis and Futuna           1\n",
       "Somalia                     1\n",
       "Name: country, Length: 146, dtype: int64"
      ]
     },
     "execution_count": 18,
     "metadata": {},
     "output_type": "execute_result"
    }
   ],
   "source": [
    "user_profile['country'].value_counts()"
   ]
  },
  {
   "cell_type": "code",
   "execution_count": 23,
   "metadata": {},
   "outputs": [
    {
     "data": {
      "text/plain": [
       "May 4, 2007     23\n",
       "Jan 23, 2008    22\n",
       "Nov 17, 2008    20\n",
       "Feb 1, 2009     19\n",
       "Jan 6, 2009     18\n",
       "                ..\n",
       "Aug 7, 2009      1\n",
       "Sep 27, 2004     1\n",
       "Dec 16, 2004     1\n",
       "Aug 24, 2004     1\n",
       "Oct 20, 2004     1\n",
       "Name: signupDate, Length: 1759, dtype: int64"
      ]
     },
     "execution_count": 23,
     "metadata": {},
     "output_type": "execute_result"
    }
   ],
   "source": [
    "user_profile['signupDate'].value_counts()"
   ]
  },
  {
   "cell_type": "code",
   "execution_count": null,
   "metadata": {},
   "outputs": [],
   "source": []
  },
  {
   "cell_type": "code",
   "execution_count": null,
   "metadata": {},
   "outputs": [],
   "source": []
  },
  {
   "cell_type": "code",
   "execution_count": null,
   "metadata": {},
   "outputs": [],
   "source": []
  },
  {
   "cell_type": "code",
   "execution_count": null,
   "metadata": {},
   "outputs": [],
   "source": []
  },
  {
   "cell_type": "code",
   "execution_count": null,
   "metadata": {},
   "outputs": [],
   "source": []
  },
  {
   "cell_type": "code",
   "execution_count": null,
   "metadata": {},
   "outputs": [],
   "source": []
  },
  {
   "cell_type": "code",
   "execution_count": null,
   "metadata": {
    "collapsed": true
   },
   "outputs": [],
   "source": []
  }
 ],
 "metadata": {
  "anaconda-cloud": {},
  "kernelspec": {
   "display_name": "Python 3",
   "language": "python",
   "name": "python3"
  },
  "language_info": {
   "codemirror_mode": {
    "name": "ipython",
    "version": 3
   },
   "file_extension": ".py",
   "mimetype": "text/x-python",
   "name": "python",
   "nbconvert_exporter": "python",
   "pygments_lexer": "ipython3",
   "version": "3.7.4"
  }
 },
 "nbformat": 4,
 "nbformat_minor": 2
}
